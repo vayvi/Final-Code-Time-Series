{
 "cells": [
  {
   "attachments": {},
   "cell_type": "markdown",
   "metadata": {},
   "source": [
    "This notebook performs initial data analysis over the datasets used in the paper (from the UCR datasets)."
   ]
  },
  {
   "cell_type": "code",
   "execution_count": 1,
   "metadata": {},
   "outputs": [],
   "source": [
    "import os\n",
    "\n",
    "from tslearn.datasets import UCR_UEA_datasets\n",
    "from sklearn.manifold import TSNE\n",
    "\n",
    "import os\n",
    "import numpy as np\n",
    "from scipy.spatial.distance import pdist, squareform\n",
    "from tqdm.notebook import tqdm\n",
    "\n",
    "import matplotlib.pyplot as plt\n",
    "import seaborn as sns\n",
    "\n",
    "from statsmodels.graphics.tsaplots import plot_acf"
   ]
  },
  {
   "cell_type": "code",
   "execution_count": 2,
   "metadata": {},
   "outputs": [],
   "source": [
    "reports_save_path = './AnalysisResults/'\n",
    "if not os.path.exists(reports_save_path):\n",
    "    os.makedirs(reports_save_path)\n",
    "reports_save_path = './AnalysisResults/ExploratoryDataAnalysis/'\n",
    "if not os.path.exists(reports_save_path):\n",
    "    os.makedirs(reports_save_path)"
   ]
  },
  {
   "cell_type": "code",
   "execution_count": 3,
   "metadata": {},
   "outputs": [],
   "source": [
    "datasets_dict = {\n",
    "    \"BeetleFly\": 8,\n",
    "    \"BirdChicken\": 8,\n",
    "    \"Computers\": 10,\n",
    "    \"Earthquakes\": 8,\n",
    "    \"MoteStrain\": 4,\n",
    "    \"PhalangesOutlinesCorrect\": 4,\n",
    "    \"ProximalPhalanxOutlineCorrect\": 4,\n",
    "    \"ShapeletSim\": 10,\n",
    "    \"ItalyPowerDemand\": 4,\n",
    "    \"WormsTwoClass\": 10,}\n",
    "\n",
    "datasets_list = list(datasets_dict.keys())"
   ]
  },
  {
   "cell_type": "code",
   "execution_count": 4,
   "metadata": {},
   "outputs": [],
   "source": [
    "def plot_tsne(distance_matrix, y_sorted, ax=plt) : \n",
    "    tsne = TSNE(random_state=0, metric=\"precomputed\", init='random')\n",
    "    for_plot = tsne.fit_transform(distance_matrix)\n",
    "    classes = np.unique(y_sorted)\n",
    "    for class_name in classes : \n",
    "        ax.scatter(for_plot[y_sorted == class_name, 0], for_plot[y_sorted == class_name, 1], label = str(class_name))\n",
    "    ax.legend()\n",
    "    return ax"
   ]
  },
  {
   "cell_type": "code",
   "execution_count": 5,
   "metadata": {},
   "outputs": [],
   "source": [
    "def plot_report(dataset_name='MoteStrain'):\n",
    "    N = 5\n",
    "    f, ax = plt.subplots(N, 2, figsize=(10, 17))\n",
    "    f.suptitle(dataset_name)\n",
    "    X_train, y_train, X_test, y_test = UCR_UEA_datasets().load_dataset(dataset_name)\n",
    "    X = np.nan_to_num(np.concatenate((X_train, X_test)))\n",
    "    y = np.concatenate((y_train, y_test))\n",
    "    classes = np.unique(y)\n",
    "    part = 0\n",
    "    for i, class_name in enumerate(classes[:2]) : \n",
    "        class_indicator = (y == class_name)\n",
    "        random_sample = np.random.choice(np.where(class_indicator)[0], 10)\n",
    "        ax[part, i].set_title(\"Class {}\".format(class_name))\n",
    "        for sample_index in random_sample : \n",
    "            ax[part, i].plot(X[sample_index].flatten())\n",
    "    part += 1\n",
    "    index_label = np.argsort(y)\n",
    "    X_univariate_reindexed = X[index_label, :, 0]\n",
    "    ax_ = ax[part, 0]\n",
    "    ax_.set_title(\"Correlation matrix\")\n",
    "    affinity = np.corrcoef(X_univariate_reindexed)\n",
    "    sns.heatmap(affinity, ax=ax_)\n",
    "    \n",
    "    ax_ = ax[part, 1]\n",
    "    ax_.set_title(\"Correlation matrix - TSNE projection\")\n",
    "    ax_ = plot_tsne(1-affinity, y[index_label], ax=ax_)\n",
    "    \n",
    "    part += 1\n",
    "    ax_ = ax[part, 0]\n",
    "    dists = squareform(pdist(X_univariate_reindexed, metric = \"euclidean\"))\n",
    "    ax_.set_title(\"Euclidean distance matrix\")\n",
    "    sns.heatmap(dists, ax=ax_)\n",
    "    \n",
    "    ax_ = ax[part, 1]\n",
    "    ax_.set_title(\"Euclidean distance matrix - TSNE projection\")\n",
    "    ax_ = plot_tsne(dists, y[index_label], ax=ax_)\n",
    "\n",
    "    classes = np.unique(y)    \n",
    "    for i in range(2):\n",
    "        part += 1\n",
    "        for j, class_name in enumerate(classes[:2]) : \n",
    "            class_indicator = (y == class_name)\n",
    "            random_sample = np.random.choice(np.where(class_indicator)[0], 1)\n",
    "            plot_acf(X[random_sample[0]].flatten(), title=f\"Class {class_name} - Sample {i}\", ax=ax[part, j])\n",
    "    f.align_ylabels(ax[0, :])\n",
    "    plt.tight_layout()\n",
    "    plt.savefig(reports_save_path + f\"/{dataset_name}.pdf\")\n",
    "    plt.show()    "
   ]
  },
  {
   "cell_type": "code",
   "execution_count": null,
   "metadata": {},
   "outputs": [],
   "source": [
    "for dataset in tqdm(datasets_list) :\n",
    "    plot_report(dataset)"
   ]
  }
 ],
 "metadata": {
  "kernelspec": {
   "display_name": "MVA",
   "language": "python",
   "name": "python3"
  },
  "language_info": {
   "codemirror_mode": {
    "name": "ipython",
    "version": 3
   },
   "file_extension": ".py",
   "mimetype": "text/x-python",
   "name": "python",
   "nbconvert_exporter": "python",
   "pygments_lexer": "ipython3",
   "version": "3.8.13"
  },
  "orig_nbformat": 4
 },
 "nbformat": 4,
 "nbformat_minor": 2
}
